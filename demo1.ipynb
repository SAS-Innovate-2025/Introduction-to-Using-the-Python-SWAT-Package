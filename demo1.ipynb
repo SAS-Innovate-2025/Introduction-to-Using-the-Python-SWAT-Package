{
 "cells": [
  {
   "cell_type": "markdown",
   "id": "ab187795",
   "metadata": {},
   "source": [
    "# Connect to the CAS server and create a CAS session"
   ]
  },
  {
   "cell_type": "markdown",
   "id": "5f8b1b33",
   "metadata": {},
   "source": [
    "## Import packages and create a session\n",
    "\n",
    "When working with CAS, you need to connect to the CAS server and the session is used to established that connection and create a kind of sandbox where the users can manage their data inside a CASUSER library and interact with data located in other libraries based on the rights managed within SAS Viya."
   ]
  },
  {
   "cell_type": "code",
   "execution_count": 20,
   "id": "642b0097",
   "metadata": {},
   "outputs": [],
   "source": [
    "import swat\n",
    "\n",
    "session = swat.CAS(\n",
    "    \"https://server.demo.sas.com/cas-shared-default-http\",\n",
    "    authinfo='/home/sbxxab/.authinfo',\n",
    "    ssl_ca_list=\"/home/sbxxab/server.demo.sas.com.cer\",\n",
    ")"
   ]
  },
  {
   "cell_type": "markdown",
   "id": "fa44eaad",
   "metadata": {},
   "source": [
    "## Check available tables"
   ]
  },
  {
   "cell_type": "code",
   "execution_count": 21,
   "id": "5c18ee3a",
   "metadata": {},
   "outputs": [
    {
     "name": "stdout",
     "output_type": "stream",
     "text": [
      "NOTE: No tables are available in caslib CASUSER(student) of Cloud Analytic Services.\n"
     ]
    },
    {
     "data": {
      "text/html": [
       "<div class=\"cas-output-area\"></div>\n",
       "<p class=\"cas-results-performance\"><small><span class=\"cas-elapsed\">elapsed 0.000706s</span> &#183; <span class=\"cas-user\">user 0.000488s</span> &#183; <span class=\"cas-sys\">sys 0.000163s</span> &#183; <span class=\"cas-memory\">mem 0.284MB</span></small></p>"
      ],
      "text/plain": [
       "+ Elapsed: 0.000706s, user: 0.000488s, sys: 0.000163s, mem: 0.284mb"
      ]
     },
     "execution_count": 21,
     "metadata": {},
     "output_type": "execute_result"
    }
   ],
   "source": [
    "session.tableinfo(caslib=\"casuser\")"
   ]
  },
  {
   "cell_type": "markdown",
   "id": "b84d0da8",
   "metadata": {},
   "source": [
    "## Load a CSV file from the web\n",
    "\n",
    "A CAS table can be loaded into memory from many kinds of data sources. In this example, we are loading data directly from a GitHub repository using HTTP protocol. \n",
    "The CAS table is loaded from a CSV file and the *tbl* variable will store the pointer to the CAS Table."
   ]
  },
  {
   "cell_type": "code",
   "execution_count": 22,
   "id": "e7b50874",
   "metadata": {},
   "outputs": [
    {
     "name": "stdout",
     "output_type": "stream",
     "text": [
      "NOTE: Cloud Analytic Services made the uploaded file available as table CARS in caslib CASUSER(student).\n",
      "NOTE: The table CARS has been created in caslib CASUSER(student) from binary data uploaded to Cloud Analytic Services.\n"
     ]
    }
   ],
   "source": [
    "data_source = \"https://raw.githubusercontent.com/sassoftware/sas-viya-programming/master/data/cars.csv\"\n",
    "table_name = \"cars\"\n",
    "\n",
    "tbl = session.read_csv(data_source, table_name)"
   ]
  },
  {
   "cell_type": "markdown",
   "id": "093d2eb8",
   "metadata": {},
   "source": [
    "## Visualize data"
   ]
  },
  {
   "cell_type": "code",
   "execution_count": 23,
   "id": "e9e9c3ba",
   "metadata": {},
   "outputs": [
    {
     "data": {
      "text/html": [
       "<div>\n",
       "<style scoped>\n",
       "    .dataframe tbody tr th:only-of-type {\n",
       "        vertical-align: middle;\n",
       "    }\n",
       "\n",
       "    .dataframe tbody tr th {\n",
       "        vertical-align: top;\n",
       "    }\n",
       "\n",
       "    .dataframe thead th {\n",
       "        text-align: right;\n",
       "    }\n",
       "</style>\n",
       "<table border=\"1\" class=\"dataframe\"><caption>Selected Rows from Table CARS</caption>\n",
       "  <thead>\n",
       "    <tr style=\"text-align: right;\">\n",
       "      <th title=\"\"></th>\n",
       "      <th title=\"Make\">Make</th>\n",
       "      <th title=\"Model\">Model</th>\n",
       "      <th title=\"Type\">Type</th>\n",
       "      <th title=\"Origin\">Origin</th>\n",
       "      <th title=\"DriveTrain\">DriveTrain</th>\n",
       "      <th title=\"MSRP\">MSRP</th>\n",
       "      <th title=\"Invoice\">Invoice</th>\n",
       "      <th title=\"EngineSize\">EngineSize</th>\n",
       "      <th title=\"Cylinders\">Cylinders</th>\n",
       "      <th title=\"Horsepower\">Horsepower</th>\n",
       "      <th title=\"MPG_City\">MPG_City</th>\n",
       "      <th title=\"MPG_Highway\">MPG_Highway</th>\n",
       "      <th title=\"Weight\">Weight</th>\n",
       "      <th title=\"Wheelbase\">Wheelbase</th>\n",
       "      <th title=\"Length\">Length</th>\n",
       "    </tr>\n",
       "  </thead>\n",
       "  <tbody>\n",
       "    <tr>\n",
       "      <td>0</td>\n",
       "      <td>Acura</td>\n",
       "      <td>MDX</td>\n",
       "      <td>SUV</td>\n",
       "      <td>Asia</td>\n",
       "      <td>All</td>\n",
       "      <td>36945.0</td>\n",
       "      <td>33337.0</td>\n",
       "      <td>3.5</td>\n",
       "      <td>6.0</td>\n",
       "      <td>265.0</td>\n",
       "      <td>17.0</td>\n",
       "      <td>23.0</td>\n",
       "      <td>4451.0</td>\n",
       "      <td>106.0</td>\n",
       "      <td>189.0</td>\n",
       "    </tr>\n",
       "    <tr>\n",
       "      <td>1</td>\n",
       "      <td>Acura</td>\n",
       "      <td>RSX Type S 2dr</td>\n",
       "      <td>Sedan</td>\n",
       "      <td>Asia</td>\n",
       "      <td>Front</td>\n",
       "      <td>23820.0</td>\n",
       "      <td>21761.0</td>\n",
       "      <td>2.0</td>\n",
       "      <td>4.0</td>\n",
       "      <td>200.0</td>\n",
       "      <td>24.0</td>\n",
       "      <td>31.0</td>\n",
       "      <td>2778.0</td>\n",
       "      <td>101.0</td>\n",
       "      <td>172.0</td>\n",
       "    </tr>\n",
       "    <tr>\n",
       "      <td>2</td>\n",
       "      <td>Acura</td>\n",
       "      <td>TSX 4dr</td>\n",
       "      <td>Sedan</td>\n",
       "      <td>Asia</td>\n",
       "      <td>Front</td>\n",
       "      <td>26990.0</td>\n",
       "      <td>24647.0</td>\n",
       "      <td>2.4</td>\n",
       "      <td>4.0</td>\n",
       "      <td>200.0</td>\n",
       "      <td>22.0</td>\n",
       "      <td>29.0</td>\n",
       "      <td>3230.0</td>\n",
       "      <td>105.0</td>\n",
       "      <td>183.0</td>\n",
       "    </tr>\n",
       "    <tr>\n",
       "      <td>3</td>\n",
       "      <td>Acura</td>\n",
       "      <td>TL 4dr</td>\n",
       "      <td>Sedan</td>\n",
       "      <td>Asia</td>\n",
       "      <td>Front</td>\n",
       "      <td>33195.0</td>\n",
       "      <td>30299.0</td>\n",
       "      <td>3.2</td>\n",
       "      <td>6.0</td>\n",
       "      <td>270.0</td>\n",
       "      <td>20.0</td>\n",
       "      <td>28.0</td>\n",
       "      <td>3575.0</td>\n",
       "      <td>108.0</td>\n",
       "      <td>186.0</td>\n",
       "    </tr>\n",
       "    <tr>\n",
       "      <td>4</td>\n",
       "      <td>Acura</td>\n",
       "      <td>3.5 RL 4dr</td>\n",
       "      <td>Sedan</td>\n",
       "      <td>Asia</td>\n",
       "      <td>Front</td>\n",
       "      <td>43755.0</td>\n",
       "      <td>39014.0</td>\n",
       "      <td>3.5</td>\n",
       "      <td>6.0</td>\n",
       "      <td>225.0</td>\n",
       "      <td>18.0</td>\n",
       "      <td>24.0</td>\n",
       "      <td>3880.0</td>\n",
       "      <td>115.0</td>\n",
       "      <td>197.0</td>\n",
       "    </tr>\n",
       "  </tbody>\n",
       "</table>\n",
       "</div>"
      ],
      "text/plain": [
       "Selected Rows from Table CARS\n",
       "\n",
       "    Make           Model   Type Origin DriveTrain     MSRP  Invoice  EngineSize  Cylinders  Horsepower  MPG_City  MPG_Highway  Weight  Wheelbase  Length\n",
       "0  Acura             MDX    SUV   Asia        All  36945.0  33337.0         3.5        6.0       265.0      17.0         23.0  4451.0      106.0   189.0\n",
       "1  Acura  RSX Type S 2dr  Sedan   Asia      Front  23820.0  21761.0         2.0        4.0       200.0      24.0         31.0  2778.0      101.0   172.0\n",
       "2  Acura         TSX 4dr  Sedan   Asia      Front  26990.0  24647.0         2.4        4.0       200.0      22.0         29.0  3230.0      105.0   183.0\n",
       "3  Acura          TL 4dr  Sedan   Asia      Front  33195.0  30299.0         3.2        6.0       270.0      20.0         28.0  3575.0      108.0   186.0\n",
       "4  Acura      3.5 RL 4dr  Sedan   Asia      Front  43755.0  39014.0         3.5        6.0       225.0      18.0         24.0  3880.0      115.0   197.0"
      ]
     },
     "execution_count": 23,
     "metadata": {},
     "output_type": "execute_result"
    }
   ],
   "source": [
    "tbl.head(5)"
   ]
  },
  {
   "cell_type": "markdown",
   "id": "64b00e03",
   "metadata": {},
   "source": [
    "## Get simple statistics from the data"
   ]
  },
  {
   "cell_type": "code",
   "execution_count": 24,
   "id": "84048f13",
   "metadata": {},
   "outputs": [
    {
     "data": {
      "text/html": [
       "<div>\n",
       "<style scoped>\n",
       "    .dataframe tbody tr th:only-of-type {\n",
       "        vertical-align: middle;\n",
       "    }\n",
       "\n",
       "    .dataframe tbody tr th {\n",
       "        vertical-align: top;\n",
       "    }\n",
       "\n",
       "    .dataframe thead th {\n",
       "        text-align: right;\n",
       "    }\n",
       "</style>\n",
       "<table border=\"1\" class=\"dataframe\">\n",
       "  <thead>\n",
       "    <tr style=\"text-align: right;\">\n",
       "      <th title=\"\"></th>\n",
       "      <th title=\"MSRP\">MSRP</th>\n",
       "      <th title=\"Invoice\">Invoice</th>\n",
       "      <th title=\"EngineSize\">EngineSize</th>\n",
       "      <th title=\"Cylinders\">Cylinders</th>\n",
       "      <th title=\"Horsepower\">Horsepower</th>\n",
       "      <th title=\"MPG_City\">MPG_City</th>\n",
       "      <th title=\"MPG_Highway\">MPG_Highway</th>\n",
       "      <th title=\"Weight\">Weight</th>\n",
       "      <th title=\"Wheelbase\">Wheelbase</th>\n",
       "      <th title=\"Length\">Length</th>\n",
       "    </tr>\n",
       "  </thead>\n",
       "  <tbody>\n",
       "    <tr>\n",
       "      <td>count</td>\n",
       "      <td>428.000000</td>\n",
       "      <td>428.000000</td>\n",
       "      <td>428.000000</td>\n",
       "      <td>426.000000</td>\n",
       "      <td>428.000000</td>\n",
       "      <td>428.000000</td>\n",
       "      <td>428.000000</td>\n",
       "      <td>428.000000</td>\n",
       "      <td>428.000000</td>\n",
       "      <td>428.000000</td>\n",
       "    </tr>\n",
       "    <tr>\n",
       "      <td>mean</td>\n",
       "      <td>32774.855140</td>\n",
       "      <td>30014.700935</td>\n",
       "      <td>3.196729</td>\n",
       "      <td>5.807512</td>\n",
       "      <td>215.885514</td>\n",
       "      <td>20.060748</td>\n",
       "      <td>26.843458</td>\n",
       "      <td>3577.953271</td>\n",
       "      <td>108.154206</td>\n",
       "      <td>186.362150</td>\n",
       "    </tr>\n",
       "    <tr>\n",
       "      <td>std</td>\n",
       "      <td>19431.716674</td>\n",
       "      <td>17642.117750</td>\n",
       "      <td>1.108595</td>\n",
       "      <td>1.558443</td>\n",
       "      <td>71.836032</td>\n",
       "      <td>5.238218</td>\n",
       "      <td>5.741201</td>\n",
       "      <td>758.983215</td>\n",
       "      <td>8.311813</td>\n",
       "      <td>14.357991</td>\n",
       "    </tr>\n",
       "    <tr>\n",
       "      <td>min</td>\n",
       "      <td>10280.000000</td>\n",
       "      <td>9875.000000</td>\n",
       "      <td>1.300000</td>\n",
       "      <td>3.000000</td>\n",
       "      <td>73.000000</td>\n",
       "      <td>10.000000</td>\n",
       "      <td>12.000000</td>\n",
       "      <td>1850.000000</td>\n",
       "      <td>89.000000</td>\n",
       "      <td>143.000000</td>\n",
       "    </tr>\n",
       "    <tr>\n",
       "      <td>25%</td>\n",
       "      <td>20329.500000</td>\n",
       "      <td>18851.000000</td>\n",
       "      <td>2.350000</td>\n",
       "      <td>4.000000</td>\n",
       "      <td>165.000000</td>\n",
       "      <td>17.000000</td>\n",
       "      <td>24.000000</td>\n",
       "      <td>3103.000000</td>\n",
       "      <td>103.000000</td>\n",
       "      <td>178.000000</td>\n",
       "    </tr>\n",
       "    <tr>\n",
       "      <td>50%</td>\n",
       "      <td>27635.000000</td>\n",
       "      <td>25294.500000</td>\n",
       "      <td>3.000000</td>\n",
       "      <td>6.000000</td>\n",
       "      <td>210.000000</td>\n",
       "      <td>19.000000</td>\n",
       "      <td>26.000000</td>\n",
       "      <td>3474.500000</td>\n",
       "      <td>107.000000</td>\n",
       "      <td>187.000000</td>\n",
       "    </tr>\n",
       "    <tr>\n",
       "      <td>75%</td>\n",
       "      <td>39215.000000</td>\n",
       "      <td>35732.500000</td>\n",
       "      <td>3.900000</td>\n",
       "      <td>6.000000</td>\n",
       "      <td>255.000000</td>\n",
       "      <td>21.500000</td>\n",
       "      <td>29.000000</td>\n",
       "      <td>3978.500000</td>\n",
       "      <td>112.000000</td>\n",
       "      <td>194.000000</td>\n",
       "    </tr>\n",
       "    <tr>\n",
       "      <td>max</td>\n",
       "      <td>192465.000000</td>\n",
       "      <td>173560.000000</td>\n",
       "      <td>8.300000</td>\n",
       "      <td>12.000000</td>\n",
       "      <td>500.000000</td>\n",
       "      <td>60.000000</td>\n",
       "      <td>66.000000</td>\n",
       "      <td>7190.000000</td>\n",
       "      <td>144.000000</td>\n",
       "      <td>238.000000</td>\n",
       "    </tr>\n",
       "  </tbody>\n",
       "</table>\n",
       "</div>"
      ],
      "text/plain": [
       "                MSRP        Invoice  EngineSize   Cylinders  Horsepower    MPG_City  MPG_Highway       Weight   Wheelbase      Length\n",
       "count     428.000000     428.000000  428.000000  426.000000  428.000000  428.000000   428.000000   428.000000  428.000000  428.000000\n",
       "mean    32774.855140   30014.700935    3.196729    5.807512  215.885514   20.060748    26.843458  3577.953271  108.154206  186.362150\n",
       "std     19431.716674   17642.117750    1.108595    1.558443   71.836032    5.238218     5.741201   758.983215    8.311813   14.357991\n",
       "min     10280.000000    9875.000000    1.300000    3.000000   73.000000   10.000000    12.000000  1850.000000   89.000000  143.000000\n",
       "25%     20329.500000   18851.000000    2.350000    4.000000  165.000000   17.000000    24.000000  3103.000000  103.000000  178.000000\n",
       "50%     27635.000000   25294.500000    3.000000    6.000000  210.000000   19.000000    26.000000  3474.500000  107.000000  187.000000\n",
       "75%     39215.000000   35732.500000    3.900000    6.000000  255.000000   21.500000    29.000000  3978.500000  112.000000  194.000000\n",
       "max    192465.000000  173560.000000    8.300000   12.000000  500.000000   60.000000    66.000000  7190.000000  144.000000  238.000000"
      ]
     },
     "execution_count": 24,
     "metadata": {},
     "output_type": "execute_result"
    }
   ],
   "source": [
    "tbl.describe()"
   ]
  },
  {
   "cell_type": "markdown",
   "id": "2e74efb3",
   "metadata": {},
   "source": [
    "## Get summary statistics from the data"
   ]
  },
  {
   "cell_type": "code",
   "execution_count": 25,
   "id": "71b260d8",
   "metadata": {},
   "outputs": [
    {
     "data": {
      "text/html": [
       "<div class=\"cas-results-key\"><b>&#167; Summary</b></div>\n",
       "<div class=\"cas-results-body\">\n",
       "<div>\n",
       "<style scoped>\n",
       "    .dataframe tbody tr th:only-of-type {\n",
       "        vertical-align: middle;\n",
       "    }\n",
       "\n",
       "    .dataframe tbody tr th {\n",
       "        vertical-align: top;\n",
       "    }\n",
       "\n",
       "    .dataframe thead th {\n",
       "        text-align: right;\n",
       "    }\n",
       "</style>\n",
       "<table border=\"1\" class=\"dataframe\"><caption>Descriptive Statistics for CARS</caption>\n",
       "  <thead>\n",
       "    <tr style=\"text-align: right;\">\n",
       "      <th title=\"\"></th>\n",
       "      <th title=\"Analysis Variable\">Column</th>\n",
       "      <th title=\"Minimum\">Min</th>\n",
       "      <th title=\"Maximum\">Max</th>\n",
       "      <th title=\"N\">N</th>\n",
       "      <th title=\"N Miss\">NMiss</th>\n",
       "      <th title=\"Mean\">Mean</th>\n",
       "      <th title=\"Sum\">Sum</th>\n",
       "      <th title=\"Std Dev\">Std</th>\n",
       "      <th title=\"Std Error\">StdErr</th>\n",
       "      <th title=\"Variance\">Var</th>\n",
       "      <th title=\"USS\">USS</th>\n",
       "      <th title=\"Corrected SS\">CSS</th>\n",
       "      <th title=\"Coeff of Variation\">CV</th>\n",
       "      <th title=\"t Value\">TValue</th>\n",
       "      <th title=\"Pr &gt; |t|\">ProbT</th>\n",
       "      <th title=\"Skewness\">Skewness</th>\n",
       "      <th title=\"Kurtosis\">Kurtosis</th>\n",
       "    </tr>\n",
       "  </thead>\n",
       "  <tbody>\n",
       "    <tr>\n",
       "      <td>0</td>\n",
       "      <td>MSRP</td>\n",
       "      <td>10280.0</td>\n",
       "      <td>192465.0</td>\n",
       "      <td>428.0</td>\n",
       "      <td>0.0</td>\n",
       "      <td>32774.855140</td>\n",
       "      <td>14027638.0</td>\n",
       "      <td>19431.716674</td>\n",
       "      <td>939.267478</td>\n",
       "      <td>3.775916e+08</td>\n",
       "      <td>6.209854e+11</td>\n",
       "      <td>1.612316e+11</td>\n",
       "      <td>59.288490</td>\n",
       "      <td>34.894059</td>\n",
       "      <td>4.160412e-127</td>\n",
       "      <td>2.798099</td>\n",
       "      <td>13.879206</td>\n",
       "    </tr>\n",
       "    <tr>\n",
       "      <td>1</td>\n",
       "      <td>Invoice</td>\n",
       "      <td>9875.0</td>\n",
       "      <td>173560.0</td>\n",
       "      <td>428.0</td>\n",
       "      <td>0.0</td>\n",
       "      <td>30014.700935</td>\n",
       "      <td>12846292.0</td>\n",
       "      <td>17642.117750</td>\n",
       "      <td>852.763949</td>\n",
       "      <td>3.112443e+08</td>\n",
       "      <td>5.184789e+11</td>\n",
       "      <td>1.329013e+11</td>\n",
       "      <td>58.778256</td>\n",
       "      <td>35.196963</td>\n",
       "      <td>2.684398e-128</td>\n",
       "      <td>2.834740</td>\n",
       "      <td>13.946164</td>\n",
       "    </tr>\n",
       "    <tr>\n",
       "      <td>2</td>\n",
       "      <td>EngineSize</td>\n",
       "      <td>1.3</td>\n",
       "      <td>8.3</td>\n",
       "      <td>428.0</td>\n",
       "      <td>0.0</td>\n",
       "      <td>3.196729</td>\n",
       "      <td>1368.2</td>\n",
       "      <td>1.108595</td>\n",
       "      <td>0.053586</td>\n",
       "      <td>1.228982e+00</td>\n",
       "      <td>4.898540e+03</td>\n",
       "      <td>5.247754e+02</td>\n",
       "      <td>34.679034</td>\n",
       "      <td>59.656105</td>\n",
       "      <td>3.133745e-209</td>\n",
       "      <td>0.708152</td>\n",
       "      <td>0.541944</td>\n",
       "    </tr>\n",
       "    <tr>\n",
       "      <td>3</td>\n",
       "      <td>Cylinders</td>\n",
       "      <td>3.0</td>\n",
       "      <td>12.0</td>\n",
       "      <td>426.0</td>\n",
       "      <td>2.0</td>\n",
       "      <td>5.807512</td>\n",
       "      <td>2474.0</td>\n",
       "      <td>1.558443</td>\n",
       "      <td>0.075507</td>\n",
       "      <td>2.428743e+00</td>\n",
       "      <td>1.540000e+04</td>\n",
       "      <td>1.032216e+03</td>\n",
       "      <td>26.834946</td>\n",
       "      <td>76.913766</td>\n",
       "      <td>1.515569e-251</td>\n",
       "      <td>0.592785</td>\n",
       "      <td>0.440378</td>\n",
       "    </tr>\n",
       "    <tr>\n",
       "      <td>4</td>\n",
       "      <td>Horsepower</td>\n",
       "      <td>73.0</td>\n",
       "      <td>500.0</td>\n",
       "      <td>428.0</td>\n",
       "      <td>0.0</td>\n",
       "      <td>215.885514</td>\n",
       "      <td>92399.0</td>\n",
       "      <td>71.836032</td>\n",
       "      <td>3.472326</td>\n",
       "      <td>5.160415e+03</td>\n",
       "      <td>2.215110e+07</td>\n",
       "      <td>2.203497e+06</td>\n",
       "      <td>33.275059</td>\n",
       "      <td>62.173176</td>\n",
       "      <td>4.185344e-216</td>\n",
       "      <td>0.930331</td>\n",
       "      <td>1.552159</td>\n",
       "    </tr>\n",
       "    <tr>\n",
       "      <td>5</td>\n",
       "      <td>MPG_City</td>\n",
       "      <td>10.0</td>\n",
       "      <td>60.0</td>\n",
       "      <td>428.0</td>\n",
       "      <td>0.0</td>\n",
       "      <td>20.060748</td>\n",
       "      <td>8586.0</td>\n",
       "      <td>5.238218</td>\n",
       "      <td>0.253199</td>\n",
       "      <td>2.743892e+01</td>\n",
       "      <td>1.839580e+05</td>\n",
       "      <td>1.171642e+04</td>\n",
       "      <td>26.111777</td>\n",
       "      <td>79.229235</td>\n",
       "      <td>1.866284e-257</td>\n",
       "      <td>2.782072</td>\n",
       "      <td>15.791147</td>\n",
       "    </tr>\n",
       "    <tr>\n",
       "      <td>6</td>\n",
       "      <td>MPG_Highway</td>\n",
       "      <td>12.0</td>\n",
       "      <td>66.0</td>\n",
       "      <td>428.0</td>\n",
       "      <td>0.0</td>\n",
       "      <td>26.843458</td>\n",
       "      <td>11489.0</td>\n",
       "      <td>5.741201</td>\n",
       "      <td>0.277511</td>\n",
       "      <td>3.296139e+01</td>\n",
       "      <td>3.224790e+05</td>\n",
       "      <td>1.407451e+04</td>\n",
       "      <td>21.387709</td>\n",
       "      <td>96.729204</td>\n",
       "      <td>1.665621e-292</td>\n",
       "      <td>1.252395</td>\n",
       "      <td>6.045611</td>\n",
       "    </tr>\n",
       "    <tr>\n",
       "      <td>7</td>\n",
       "      <td>Weight</td>\n",
       "      <td>1850.0</td>\n",
       "      <td>7190.0</td>\n",
       "      <td>428.0</td>\n",
       "      <td>0.0</td>\n",
       "      <td>3577.953271</td>\n",
       "      <td>1531364.0</td>\n",
       "      <td>758.983215</td>\n",
       "      <td>36.686838</td>\n",
       "      <td>5.760555e+05</td>\n",
       "      <td>5.725125e+09</td>\n",
       "      <td>2.459757e+08</td>\n",
       "      <td>21.212776</td>\n",
       "      <td>97.526890</td>\n",
       "      <td>5.812547e-294</td>\n",
       "      <td>0.891824</td>\n",
       "      <td>1.688789</td>\n",
       "    </tr>\n",
       "    <tr>\n",
       "      <td>8</td>\n",
       "      <td>Wheelbase</td>\n",
       "      <td>89.0</td>\n",
       "      <td>144.0</td>\n",
       "      <td>428.0</td>\n",
       "      <td>0.0</td>\n",
       "      <td>108.154206</td>\n",
       "      <td>46290.0</td>\n",
       "      <td>8.311813</td>\n",
       "      <td>0.401767</td>\n",
       "      <td>6.908624e+01</td>\n",
       "      <td>5.035958e+06</td>\n",
       "      <td>2.949982e+04</td>\n",
       "      <td>7.685150</td>\n",
       "      <td>269.196577</td>\n",
       "      <td>0.000000e+00</td>\n",
       "      <td>0.962287</td>\n",
       "      <td>2.133649</td>\n",
       "    </tr>\n",
       "    <tr>\n",
       "      <td>9</td>\n",
       "      <td>Length</td>\n",
       "      <td>143.0</td>\n",
       "      <td>238.0</td>\n",
       "      <td>428.0</td>\n",
       "      <td>0.0</td>\n",
       "      <td>186.362150</td>\n",
       "      <td>79763.0</td>\n",
       "      <td>14.357991</td>\n",
       "      <td>0.694020</td>\n",
       "      <td>2.061519e+02</td>\n",
       "      <td>1.495283e+07</td>\n",
       "      <td>8.802687e+04</td>\n",
       "      <td>7.704349</td>\n",
       "      <td>268.525733</td>\n",
       "      <td>0.000000e+00</td>\n",
       "      <td>0.181977</td>\n",
       "      <td>0.614725</td>\n",
       "    </tr>\n",
       "  </tbody>\n",
       "</table>\n",
       "</div>\n",
       "</div>\n",
       "<div class=\"cas-output-area\"></div>\n",
       "<p class=\"cas-results-performance\"><small><span class=\"cas-elapsed\">elapsed 0.00319s</span> &#183; <span class=\"cas-user\">user 0.00417s</span> &#183; <span class=\"cas-memory\">mem 1.91MB</span></small></p>"
      ],
      "text/plain": [
       "[Summary]\n",
       "\n",
       " Descriptive Statistics for CARS\n",
       " \n",
       "         Column      Min       Max      N  NMiss          Mean         Sum           Std      StdErr           Var           USS           CSS         CV      TValue          ProbT  Skewness   Kurtosis\n",
       " 0         MSRP  10280.0  192465.0  428.0    0.0  32774.855140  14027638.0  19431.716674  939.267478  3.775916e+08  6.209854e+11  1.612316e+11  59.288490   34.894059  4.160412e-127  2.798099  13.879206\n",
       " 1      Invoice   9875.0  173560.0  428.0    0.0  30014.700935  12846292.0  17642.117750  852.763949  3.112443e+08  5.184789e+11  1.329013e+11  58.778256   35.196963  2.684398e-128  2.834740  13.946164\n",
       " 2   EngineSize      1.3       8.3  428.0    0.0      3.196729      1368.2      1.108595    0.053586  1.228982e+00  4.898540e+03  5.247754e+02  34.679034   59.656105  3.133745e-209  0.708152   0.541944\n",
       " 3    Cylinders      3.0      12.0  426.0    2.0      5.807512      2474.0      1.558443    0.075507  2.428743e+00  1.540000e+04  1.032216e+03  26.834946   76.913766  1.515569e-251  0.592785   0.440378\n",
       " 4   Horsepower     73.0     500.0  428.0    0.0    215.885514     92399.0     71.836032    3.472326  5.160415e+03  2.215110e+07  2.203497e+06  33.275059   62.173176  4.185344e-216  0.930331   1.552159\n",
       " 5     MPG_City     10.0      60.0  428.0    0.0     20.060748      8586.0      5.238218    0.253199  2.743892e+01  1.839580e+05  1.171642e+04  26.111777   79.229235  1.866284e-257  2.782072  15.791147\n",
       " 6  MPG_Highway     12.0      66.0  428.0    0.0     26.843458     11489.0      5.741201    0.277511  3.296139e+01  3.224790e+05  1.407451e+04  21.387709   96.729204  1.665621e-292  1.252395   6.045611\n",
       " 7       Weight   1850.0    7190.0  428.0    0.0   3577.953271   1531364.0    758.983215   36.686838  5.760555e+05  5.725125e+09  2.459757e+08  21.212776   97.526890  5.812547e-294  0.891824   1.688789\n",
       " 8    Wheelbase     89.0     144.0  428.0    0.0    108.154206     46290.0      8.311813    0.401767  6.908624e+01  5.035958e+06  2.949982e+04   7.685150  269.196577   0.000000e+00  0.962287   2.133649\n",
       " 9       Length    143.0     238.0  428.0    0.0    186.362150     79763.0     14.357991    0.694020  2.061519e+02  1.495283e+07  8.802687e+04   7.704349  268.525733   0.000000e+00  0.181977   0.614725\n",
       "\n",
       "+ Elapsed: 0.00319s, user: 0.00417s, mem: 1.91mb"
      ]
     },
     "execution_count": 25,
     "metadata": {},
     "output_type": "execute_result"
    }
   ],
   "source": [
    "tbl.summary()"
   ]
  },
  {
   "cell_type": "markdown",
   "id": "b7f57c2b",
   "metadata": {},
   "source": [
    "If you pass parameters to the summary action, you can restrict the variables which are analyzed and also the returned calculations. "
   ]
  },
  {
   "cell_type": "code",
   "execution_count": null,
   "id": "510806ba",
   "metadata": {},
   "outputs": [],
   "source": [
    "tbl.summary(inputs=[\"MPG_City\", \"MPG_Highway\"], subSet=[\"mean\", \"min\", \"max\"])"
   ]
  },
  {
   "cell_type": "markdown",
   "id": "51ad7e93",
   "metadata": {},
   "source": [
    "## Enrich the data with computed variables"
   ]
  },
  {
   "cell_type": "code",
   "execution_count": null,
   "id": "a6bc7adc",
   "metadata": {},
   "outputs": [],
   "source": [
    "tbl.computedVarsProgram = \"MPG_Avg = mean(MPG_City, MPG_Highway);\""
   ]
  },
  {
   "cell_type": "code",
   "execution_count": null,
   "id": "73050c0f",
   "metadata": {},
   "outputs": [],
   "source": [
    "tbl.summary(\n",
    "    inputs=[\"MPG_City\", \"MPG_Highway\", \"MPG_Avg\"], subSet=[\"mean\", \"min\", \"max\"]\n",
    ")"
   ]
  },
  {
   "cell_type": "markdown",
   "id": "78907e07",
   "metadata": {},
   "source": [
    "## Retrieve result in a variable"
   ]
  },
  {
   "cell_type": "code",
   "execution_count": null,
   "id": "4d66e295",
   "metadata": {},
   "outputs": [],
   "source": [
    "highest_msrp = tbl[\"MSRP\"].max()\n",
    "highest_msrp"
   ]
  },
  {
   "cell_type": "markdown",
   "id": "08bef049",
   "metadata": {},
   "source": [
    "## Query the data based on a parameter"
   ]
  },
  {
   "cell_type": "code",
   "execution_count": null,
   "id": "6aab094a",
   "metadata": {},
   "outputs": [],
   "source": [
    "tbl.query(f\"MSRP = {highest_msrp}\").head()"
   ]
  },
  {
   "cell_type": "markdown",
   "id": "dc0fbf0b",
   "metadata": {},
   "source": [
    "## Rank the values"
   ]
  },
  {
   "cell_type": "code",
   "execution_count": null,
   "id": "f975d3f2",
   "metadata": {},
   "outputs": [],
   "source": [
    "df_top10 = tbl.nlargest(10, \"MSRP\")\n",
    "display(df_top10)"
   ]
  },
  {
   "cell_type": "markdown",
   "id": "400d0097",
   "metadata": {},
   "source": [
    "## Table management\n",
    "\n",
    "When you work with CAS tables, by default, the table will not be persisted between sessions. If you close the session, the data will be removed from memory and you will have to reload the data set from the source. "
   ]
  },
  {
   "cell_type": "code",
   "execution_count": 26,
   "id": "50599f51",
   "metadata": {},
   "outputs": [
    {
     "data": {
      "text/html": [
       "<div class=\"cas-results-key\"><b>&#167; TableInfo</b></div>\n",
       "<div class=\"cas-results-body\">\n",
       "<div>\n",
       "<style scoped>\n",
       "    .dataframe tbody tr th:only-of-type {\n",
       "        vertical-align: middle;\n",
       "    }\n",
       "\n",
       "    .dataframe tbody tr th {\n",
       "        vertical-align: top;\n",
       "    }\n",
       "\n",
       "    .dataframe thead th {\n",
       "        text-align: right;\n",
       "    }\n",
       "</style>\n",
       "<table border=\"1\" class=\"dataframe\">\n",
       "  <thead>\n",
       "    <tr style=\"text-align: right;\">\n",
       "      <th title=\"\"></th>\n",
       "      <th title=\"Name\">Name</th>\n",
       "      <th title=\"Rows\">Rows</th>\n",
       "      <th title=\"Columns\">Columns</th>\n",
       "      <th title=\"Indexed Columns\">IndexedColumns</th>\n",
       "      <th title=\"Encoding\">Encoding</th>\n",
       "      <th title=\"Created\">CreateTimeFormatted</th>\n",
       "      <th title=\"Last Modified\">ModTimeFormatted</th>\n",
       "      <th title=\"Last Accessed\">AccessTimeFormatted</th>\n",
       "      <th title=\"Character Set\">JavaCharSet</th>\n",
       "      <th title=\"CreateTime\">CreateTime</th>\n",
       "      <th title=\"View\">View</th>\n",
       "      <th title=\"MultiPart\">MultiPart</th>\n",
       "      <th title=\"Loaded Source\">SourceName</th>\n",
       "      <th title=\"Source Caslib\">SourceCaslib</th>\n",
       "      <th title=\"Compressed\">Compressed</th>\n",
       "      <th title=\"Table Creator\">Creator</th>\n",
       "      <th title=\"Last Table Modifier\">Modifier</th>\n",
       "      <th title=\"Source Modified\">SourceModTimeFormatted</th>\n",
       "      <th title=\"SourceModTime\">SourceModTime</th>\n",
       "      <th title=\"Table Redistribute Up Policy\">TableRedistUpPolicy</th>\n",
       "    </tr>\n",
       "  </thead>\n",
       "  <tbody>\n",
       "    <tr>\n",
       "      <td>0</td>\n",
       "      <td>CARS</td>\n",
       "      <td>428</td>\n",
       "      <td>15</td>\n",
       "      <td>0</td>\n",
       "      <td>utf-8</td>\n",
       "      <td>2025-04-16T14:07:54+00:00</td>\n",
       "      <td>2025-04-16T14:07:54+00:00</td>\n",
       "      <td>2025-04-16T14:08:24+00:00</td>\n",
       "      <td>UTF8</td>\n",
       "      <td>2.060432e+09</td>\n",
       "      <td>0</td>\n",
       "      <td>0</td>\n",
       "      <td></td>\n",
       "      <td></td>\n",
       "      <td>0</td>\n",
       "      <td>student</td>\n",
       "      <td></td>\n",
       "      <td>2025-04-16T14:07:54+00:00</td>\n",
       "      <td>2.060432e+09</td>\n",
       "      <td>Not Specified</td>\n",
       "    </tr>\n",
       "  </tbody>\n",
       "</table>\n",
       "</div>\n",
       "</div>\n",
       "<div class=\"cas-output-area\"></div>\n",
       "<p class=\"cas-results-performance\"><small><span class=\"cas-elapsed\">elapsed 0.00252s</span> &#183; <span class=\"cas-user\">user 0.00109s</span> &#183; <span class=\"cas-memory\">mem 0.702MB</span></small></p>"
      ],
      "text/plain": [
       "[TableInfo]\n",
       "\n",
       "    Name  Rows  Columns  IndexedColumns Encoding        CreateTimeFormatted           ModTimeFormatted        AccessTimeFormatted JavaCharSet    CreateTime       ModTime    AccessTime  Global  Repeated  View  MultiPart SourceName SourceCaslib  Compressed  Creator Modifier     SourceModTimeFormatted  SourceModTime TableRedistUpPolicy\n",
       " 0  CARS   428       15               0    utf-8  2025-04-16T14:07:54+00:00  2025-04-16T14:07:54+00:00  2025-04-16T14:08:24+00:00        UTF8  2.060432e+09  2.060432e+09  2.060432e+09       0         0     0          0                                   0  student           2025-04-16T14:07:54+00:00   2.060432e+09       Not Specified\n",
       "\n",
       "+ Elapsed: 0.00252s, user: 0.00109s, mem: 0.702mb"
      ]
     },
     "execution_count": 26,
     "metadata": {},
     "output_type": "execute_result"
    }
   ],
   "source": [
    "session.tableinfo(caslib=\"casuser\")"
   ]
  },
  {
   "cell_type": "code",
   "execution_count": 27,
   "id": "66b713c4",
   "metadata": {},
   "outputs": [],
   "source": [
    "session.close()"
   ]
  },
  {
   "cell_type": "code",
   "execution_count": 28,
   "id": "1004460e",
   "metadata": {},
   "outputs": [],
   "source": [
    "session = swat.CAS(\n",
    "    \"https://server.demo.sas.com/cas-shared-default-http\",\n",
    "    authinfo=\"/home/sbxxab/.authinfo\",\n",
    "    ssl_ca_list=\"/home/sbxxab/server.demo.sas.com.cer\",\n",
    ")"
   ]
  },
  {
   "cell_type": "code",
   "execution_count": 29,
   "id": "552f4bd9",
   "metadata": {},
   "outputs": [
    {
     "name": "stdout",
     "output_type": "stream",
     "text": [
      "NOTE: No tables are available in caslib CASUSER(student) of Cloud Analytic Services.\n"
     ]
    },
    {
     "data": {
      "text/html": [
       "<div class=\"cas-output-area\"></div>\n",
       "<p class=\"cas-results-performance\"><small><span class=\"cas-elapsed\">elapsed 0.000705s</span> &#183; <span class=\"cas-user\">user 0.00047s</span> &#183; <span class=\"cas-sys\">sys 0.000174s</span> &#183; <span class=\"cas-memory\">mem 0.284MB</span></small></p>"
      ],
      "text/plain": [
       "+ Elapsed: 0.000705s, user: 0.00047s, sys: 0.000174s, mem: 0.284mb"
      ]
     },
     "execution_count": 29,
     "metadata": {},
     "output_type": "execute_result"
    }
   ],
   "source": [
    "session.tableinfo(caslib=\"casuser\")"
   ]
  },
  {
   "cell_type": "code",
   "execution_count": 30,
   "id": "2826522e",
   "metadata": {},
   "outputs": [
    {
     "name": "stdout",
     "output_type": "stream",
     "text": [
      "NOTE: Cloud Analytic Services made the uploaded file available as table CARS in caslib CASUSER(student).\n",
      "NOTE: The table CARS has been created in caslib CASUSER(student) from binary data uploaded to Cloud Analytic Services.\n"
     ]
    }
   ],
   "source": [
    "data_source = \"https://raw.githubusercontent.com/sassoftware/sas-viya-programming/master/data/cars.csv\"\n",
    "table_name = \"cars\"\n",
    "\n",
    "tbl = session.read_csv(data_source, table_name)"
   ]
  },
  {
   "cell_type": "code",
   "execution_count": 31,
   "id": "5b2205e9",
   "metadata": {},
   "outputs": [
    {
     "name": "stdout",
     "output_type": "stream",
     "text": [
      "NOTE: Cloud Analytic Services promoted table CARS in caslib CASUSER(student) to table cars in caslib CASUSER(student).\n"
     ]
    },
    {
     "data": {
      "text/html": [
       "<div class=\"cas-output-area\"></div>\n",
       "<p class=\"cas-results-performance\"><small><span class=\"cas-elapsed\">elapsed 0.00142s</span> &#183; <span class=\"cas-sys\">sys 0.00118s</span> &#183; <span class=\"cas-memory\">mem 0.333MB</span></small></p>"
      ],
      "text/plain": [
       "+ Elapsed: 0.00142s, sys: 0.00118s, mem: 0.333mb"
      ]
     },
     "execution_count": 31,
     "metadata": {},
     "output_type": "execute_result"
    }
   ],
   "source": [
    "session.promote(\"cars\", \"casuser\")"
   ]
  },
  {
   "cell_type": "code",
   "execution_count": 32,
   "id": "5886edc4",
   "metadata": {},
   "outputs": [],
   "source": [
    "session.close()"
   ]
  },
  {
   "cell_type": "code",
   "execution_count": 33,
   "id": "0dd395b8",
   "metadata": {},
   "outputs": [],
   "source": [
    "session = swat.CAS(\n",
    "    \"https://server.demo.sas.com/cas-shared-default-http\",\n",
    "    authinfo=\"/home/sbxxab/.authinfo\",\n",
    "    ssl_ca_list=\"/home/sbxxab/server.demo.sas.com.cer\",\n",
    ")"
   ]
  },
  {
   "cell_type": "code",
   "execution_count": 34,
   "id": "776dac6f",
   "metadata": {},
   "outputs": [
    {
     "data": {
      "text/html": [
       "<div class=\"cas-results-key\"><b>&#167; TableInfo</b></div>\n",
       "<div class=\"cas-results-body\">\n",
       "<div>\n",
       "<style scoped>\n",
       "    .dataframe tbody tr th:only-of-type {\n",
       "        vertical-align: middle;\n",
       "    }\n",
       "\n",
       "    .dataframe tbody tr th {\n",
       "        vertical-align: top;\n",
       "    }\n",
       "\n",
       "    .dataframe thead th {\n",
       "        text-align: right;\n",
       "    }\n",
       "</style>\n",
       "<table border=\"1\" class=\"dataframe\">\n",
       "  <thead>\n",
       "    <tr style=\"text-align: right;\">\n",
       "      <th title=\"\"></th>\n",
       "      <th title=\"Name\">Name</th>\n",
       "      <th title=\"Rows\">Rows</th>\n",
       "      <th title=\"Columns\">Columns</th>\n",
       "      <th title=\"Indexed Columns\">IndexedColumns</th>\n",
       "      <th title=\"Encoding\">Encoding</th>\n",
       "      <th title=\"Created\">CreateTimeFormatted</th>\n",
       "      <th title=\"Last Modified\">ModTimeFormatted</th>\n",
       "      <th title=\"Last Accessed\">AccessTimeFormatted</th>\n",
       "      <th title=\"Character Set\">JavaCharSet</th>\n",
       "      <th title=\"CreateTime\">CreateTime</th>\n",
       "      <th title=\"View\">View</th>\n",
       "      <th title=\"MultiPart\">MultiPart</th>\n",
       "      <th title=\"Loaded Source\">SourceName</th>\n",
       "      <th title=\"Source Caslib\">SourceCaslib</th>\n",
       "      <th title=\"Compressed\">Compressed</th>\n",
       "      <th title=\"Table Creator\">Creator</th>\n",
       "      <th title=\"Last Table Modifier\">Modifier</th>\n",
       "      <th title=\"Source Modified\">SourceModTimeFormatted</th>\n",
       "      <th title=\"SourceModTime\">SourceModTime</th>\n",
       "      <th title=\"Table Redistribute Up Policy\">TableRedistUpPolicy</th>\n",
       "    </tr>\n",
       "  </thead>\n",
       "  <tbody>\n",
       "    <tr>\n",
       "      <td>0</td>\n",
       "      <td>CARS</td>\n",
       "      <td>428</td>\n",
       "      <td>15</td>\n",
       "      <td>0</td>\n",
       "      <td>utf-8</td>\n",
       "      <td>2025-04-16T14:17:56+00:00</td>\n",
       "      <td>2025-04-16T14:18:00+00:00</td>\n",
       "      <td>2025-04-16T14:18:00+00:00</td>\n",
       "      <td>UTF8</td>\n",
       "      <td>2.060432e+09</td>\n",
       "      <td>0</td>\n",
       "      <td>0</td>\n",
       "      <td></td>\n",
       "      <td></td>\n",
       "      <td>0</td>\n",
       "      <td>student</td>\n",
       "      <td></td>\n",
       "      <td>2025-04-16T14:17:56+00:00</td>\n",
       "      <td>2.060432e+09</td>\n",
       "      <td>Not Specified</td>\n",
       "    </tr>\n",
       "  </tbody>\n",
       "</table>\n",
       "</div>\n",
       "</div>\n",
       "<div class=\"cas-output-area\"></div>\n",
       "<p class=\"cas-results-performance\"><small><span class=\"cas-elapsed\">elapsed 0.00227s</span> &#183; <span class=\"cas-sys\">sys 0.002s</span> &#183; <span class=\"cas-memory\">mem 0.721MB</span></small></p>"
      ],
      "text/plain": [
       "[TableInfo]\n",
       "\n",
       "    Name  Rows  Columns  IndexedColumns Encoding        CreateTimeFormatted           ModTimeFormatted        AccessTimeFormatted JavaCharSet    CreateTime       ModTime    AccessTime  Global  Repeated  View  MultiPart SourceName SourceCaslib  Compressed  Creator Modifier     SourceModTimeFormatted  SourceModTime TableRedistUpPolicy\n",
       " 0  CARS   428       15               0    utf-8  2025-04-16T14:17:56+00:00  2025-04-16T14:18:00+00:00  2025-04-16T14:18:00+00:00        UTF8  2.060432e+09  2.060432e+09  2.060432e+09       1         0     0          0                                   0  student           2025-04-16T14:17:56+00:00   2.060432e+09       Not Specified\n",
       "\n",
       "+ Elapsed: 0.00227s, sys: 0.002s, mem: 0.721mb"
      ]
     },
     "execution_count": 34,
     "metadata": {},
     "output_type": "execute_result"
    }
   ],
   "source": [
    "session.tableinfo(caslib=\"casuser\")"
   ]
  },
  {
   "cell_type": "code",
   "execution_count": 37,
   "id": "70ae32d3",
   "metadata": {},
   "outputs": [
    {
     "name": "stdout",
     "output_type": "stream",
     "text": [
      "NOTE: Cloud Analytic Services saved the file cars.sashdat in caslib CASUSER(student).\n"
     ]
    },
    {
     "data": {
      "text/html": [
       "<div class=\"cas-results-key\"><b>&#167; caslib</b></div>\n",
       "<div class=\"cas-results-body\">\n",
       "<div>CASUSER(student)</div>\n",
       "</div>\n",
       "<div class=\"cas-results-key\"><hr/><b>&#167; name</b></div>\n",
       "<div class=\"cas-results-body\">\n",
       "<div>cars.sashdat</div>\n",
       "</div>\n",
       "<div class=\"cas-output-area\"></div>\n",
       "<p class=\"cas-results-performance\"><small><span class=\"cas-elapsed\">elapsed 0.0101s</span> &#183; <span class=\"cas-user\">user 0.00271s</span> &#183; <span class=\"cas-sys\">sys 0.00052s</span> &#183; <span class=\"cas-memory\">mem 16.9MB</span></small></p>"
      ],
      "text/plain": [
       "[caslib]\n",
       "\n",
       " 'CASUSER(student)'\n",
       "\n",
       "[name]\n",
       "\n",
       " 'cars.sashdat'\n",
       "\n",
       "+ Elapsed: 0.0101s, user: 0.00271s, sys: 0.00052s, mem: 16.9mb"
      ]
     },
     "execution_count": 37,
     "metadata": {},
     "output_type": "execute_result"
    }
   ],
   "source": [
    "\n",
    "tbl = session.CASTable(\"cars\", caslib=\"casuser\")\n",
    "tbl.save(caslib=\"casuser\", name=\"cars.sashdat\", replace=True)\n"
   ]
  },
  {
   "cell_type": "code",
   "execution_count": 38,
   "id": "168cd250",
   "metadata": {},
   "outputs": [
    {
     "data": {
      "text/html": [
       "<div>\n",
       "<style scoped>\n",
       "    .dataframe tbody tr th:only-of-type {\n",
       "        vertical-align: middle;\n",
       "    }\n",
       "\n",
       "    .dataframe tbody tr th {\n",
       "        vertical-align: top;\n",
       "    }\n",
       "\n",
       "    .dataframe thead th {\n",
       "        text-align: right;\n",
       "    }\n",
       "</style>\n",
       "<table border=\"1\" class=\"dataframe\">\n",
       "  <thead>\n",
       "    <tr style=\"text-align: right;\">\n",
       "      <th title=\"\"></th>\n",
       "      <th title=\"Permission\">Permission</th>\n",
       "      <th title=\"Name\">Name</th>\n",
       "      <th title=\"Time\">Time</th>\n",
       "    </tr>\n",
       "  </thead>\n",
       "  <tbody>\n",
       "    <tr>\n",
       "      <td>0</td>\n",
       "      <td>-rwxr-xr-x</td>\n",
       "      <td>cars.sashdat</td>\n",
       "      <td>2025-04-16T14:19:40+00:00</td>\n",
       "    </tr>\n",
       "  </tbody>\n",
       "</table>\n",
       "</div>"
      ],
      "text/plain": [
       "   Permission          Name                       Time\n",
       "0  -rwxr-xr-x  cars.sashdat  2025-04-16T14:19:40+00:00"
      ]
     },
     "execution_count": 38,
     "metadata": {},
     "output_type": "execute_result"
    }
   ],
   "source": [
    "session.fileInfo(caslib = 'casuser')['FileInfo'].loc[:,['Permission','Name', 'Time']]"
   ]
  },
  {
   "cell_type": "code",
   "execution_count": 39,
   "id": "8e71ff5a",
   "metadata": {},
   "outputs": [
    {
     "name": "stdout",
     "output_type": "stream",
     "text": [
      "NOTE: Cloud Analytic Services dropped table cars from caslib CASUSER(student).\n"
     ]
    },
    {
     "data": {
      "text/html": [
       "<div class=\"cas-output-area\"></div>\n",
       "<p class=\"cas-results-performance\"><small><span class=\"cas-elapsed\">elapsed 0.000835s</span> &#183; <span class=\"cas-user\">user 0.000492s</span> &#183; <span class=\"cas-sys\">sys 0.00015s</span> &#183; <span class=\"cas-memory\">mem 0.273MB</span></small></p>"
      ],
      "text/plain": [
       "+ Elapsed: 0.000835s, user: 0.000492s, sys: 0.00015s, mem: 0.273mb"
      ]
     },
     "execution_count": 39,
     "metadata": {},
     "output_type": "execute_result"
    }
   ],
   "source": [
    "session.droptable(\"cars\")"
   ]
  },
  {
   "cell_type": "code",
   "execution_count": 40,
   "id": "b956a88e",
   "metadata": {},
   "outputs": [],
   "source": [
    "session.close()"
   ]
  },
  {
   "cell_type": "code",
   "execution_count": 41,
   "id": "393523df",
   "metadata": {},
   "outputs": [],
   "source": [
    "session = swat.CAS(\n",
    "    \"https://server.demo.sas.com/cas-shared-default-http\",\n",
    "    authinfo=\"/home/sbxxab/.authinfo\",\n",
    "    ssl_ca_list=\"/home/sbxxab/server.demo.sas.com.cer\",\n",
    ")"
   ]
  },
  {
   "cell_type": "code",
   "execution_count": null,
   "id": "2582a6cd",
   "metadata": {},
   "outputs": [],
   "source": [
    "session.tableinfo(caslib=\"casuser\")"
   ]
  },
  {
   "cell_type": "code",
   "execution_count": 42,
   "id": "15869903",
   "metadata": {},
   "outputs": [
    {
     "name": "stdout",
     "output_type": "stream",
     "text": [
      "NOTE: Cloud Analytic Services made the file cars.sashdat available as table MY_CARS in caslib CASUSER(student).\n"
     ]
    },
    {
     "data": {
      "text/html": [
       "<div class=\"cas-results-key\"><b>&#167; caslib</b></div>\n",
       "<div class=\"cas-results-body\">\n",
       "<div>CASUSER(student)</div>\n",
       "</div>\n",
       "<div class=\"cas-results-key\"><hr/><b>&#167; tableName</b></div>\n",
       "<div class=\"cas-results-body\">\n",
       "<div>MY_CARS</div>\n",
       "</div>\n",
       "<div class=\"cas-results-key\"><hr/><b>&#167; casTable</b></div>\n",
       "<div class=\"cas-results-body\">\n",
       "<div>CASTable('MY_CARS', caslib='CASUSER(student)')</div>\n",
       "</div>\n",
       "<div class=\"cas-output-area\"></div>\n",
       "<p class=\"cas-results-performance\"><small><span class=\"cas-elapsed\">elapsed 0.00181s</span> &#183; <span class=\"cas-sys\">sys 0.00142s</span> &#183; <span class=\"cas-memory\">mem 0.71MB</span></small></p>"
      ],
      "text/plain": [
       "[caslib]\n",
       "\n",
       " 'CASUSER(student)'\n",
       "\n",
       "[tableName]\n",
       "\n",
       " 'MY_CARS'\n",
       "\n",
       "[casTable]\n",
       "\n",
       " CASTable('MY_CARS', caslib='CASUSER(student)')\n",
       "\n",
       "+ Elapsed: 0.00181s, sys: 0.00142s, mem: 0.71mb"
      ]
     },
     "execution_count": 42,
     "metadata": {},
     "output_type": "execute_result"
    }
   ],
   "source": [
    "session.loadTable(\n",
    "    path=\"cars.sashdat\",\n",
    "    caslib=\"casuser\",\n",
    "    casout={\"name\": \"my_cars\", \"caslib\": \"casuser\", \"replace\": True},\n",
    ")"
   ]
  },
  {
   "cell_type": "code",
   "execution_count": 44,
   "id": "536e2d2a",
   "metadata": {},
   "outputs": [
    {
     "data": {
      "text/html": [
       "<div>\n",
       "<style scoped>\n",
       "    .dataframe tbody tr th:only-of-type {\n",
       "        vertical-align: middle;\n",
       "    }\n",
       "\n",
       "    .dataframe tbody tr th {\n",
       "        vertical-align: top;\n",
       "    }\n",
       "\n",
       "    .dataframe thead th {\n",
       "        text-align: right;\n",
       "    }\n",
       "</style>\n",
       "<table border=\"1\" class=\"dataframe\"><caption>Selected Rows from Table MY_CARS</caption>\n",
       "  <thead>\n",
       "    <tr style=\"text-align: right;\">\n",
       "      <th title=\"\"></th>\n",
       "      <th title=\"Make\">Make</th>\n",
       "      <th title=\"Model\">Model</th>\n",
       "      <th title=\"Type\">Type</th>\n",
       "      <th title=\"Origin\">Origin</th>\n",
       "      <th title=\"DriveTrain\">DriveTrain</th>\n",
       "      <th title=\"MSRP\">MSRP</th>\n",
       "      <th title=\"Invoice\">Invoice</th>\n",
       "      <th title=\"EngineSize\">EngineSize</th>\n",
       "      <th title=\"Cylinders\">Cylinders</th>\n",
       "      <th title=\"Horsepower\">Horsepower</th>\n",
       "      <th title=\"MPG_City\">MPG_City</th>\n",
       "      <th title=\"MPG_Highway\">MPG_Highway</th>\n",
       "      <th title=\"Weight\">Weight</th>\n",
       "      <th title=\"Wheelbase\">Wheelbase</th>\n",
       "      <th title=\"Length\">Length</th>\n",
       "    </tr>\n",
       "  </thead>\n",
       "  <tbody>\n",
       "    <tr>\n",
       "      <td>0</td>\n",
       "      <td>Acura</td>\n",
       "      <td>MDX</td>\n",
       "      <td>SUV</td>\n",
       "      <td>Asia</td>\n",
       "      <td>All</td>\n",
       "      <td>36945.0</td>\n",
       "      <td>33337.0</td>\n",
       "      <td>3.5</td>\n",
       "      <td>6.0</td>\n",
       "      <td>265.0</td>\n",
       "      <td>17.0</td>\n",
       "      <td>23.0</td>\n",
       "      <td>4451.0</td>\n",
       "      <td>106.0</td>\n",
       "      <td>189.0</td>\n",
       "    </tr>\n",
       "    <tr>\n",
       "      <td>1</td>\n",
       "      <td>Acura</td>\n",
       "      <td>RSX Type S 2dr</td>\n",
       "      <td>Sedan</td>\n",
       "      <td>Asia</td>\n",
       "      <td>Front</td>\n",
       "      <td>23820.0</td>\n",
       "      <td>21761.0</td>\n",
       "      <td>2.0</td>\n",
       "      <td>4.0</td>\n",
       "      <td>200.0</td>\n",
       "      <td>24.0</td>\n",
       "      <td>31.0</td>\n",
       "      <td>2778.0</td>\n",
       "      <td>101.0</td>\n",
       "      <td>172.0</td>\n",
       "    </tr>\n",
       "    <tr>\n",
       "      <td>2</td>\n",
       "      <td>Acura</td>\n",
       "      <td>TSX 4dr</td>\n",
       "      <td>Sedan</td>\n",
       "      <td>Asia</td>\n",
       "      <td>Front</td>\n",
       "      <td>26990.0</td>\n",
       "      <td>24647.0</td>\n",
       "      <td>2.4</td>\n",
       "      <td>4.0</td>\n",
       "      <td>200.0</td>\n",
       "      <td>22.0</td>\n",
       "      <td>29.0</td>\n",
       "      <td>3230.0</td>\n",
       "      <td>105.0</td>\n",
       "      <td>183.0</td>\n",
       "    </tr>\n",
       "  </tbody>\n",
       "</table>\n",
       "</div>"
      ],
      "text/plain": [
       "Selected Rows from Table MY_CARS\n",
       "\n",
       "    Make           Model   Type Origin DriveTrain     MSRP  Invoice  EngineSize  Cylinders  Horsepower  MPG_City  MPG_Highway  Weight  Wheelbase  Length\n",
       "0  Acura             MDX    SUV   Asia        All  36945.0  33337.0         3.5        6.0       265.0      17.0         23.0  4451.0      106.0   189.0\n",
       "1  Acura  RSX Type S 2dr  Sedan   Asia      Front  23820.0  21761.0         2.0        4.0       200.0      24.0         31.0  2778.0      101.0   172.0\n",
       "2  Acura         TSX 4dr  Sedan   Asia      Front  26990.0  24647.0         2.4        4.0       200.0      22.0         29.0  3230.0      105.0   183.0"
      ]
     },
     "execution_count": 44,
     "metadata": {},
     "output_type": "execute_result"
    }
   ],
   "source": [
    "tbl = session.CASTable(\"my_cars\", caslib=\"casuser\")\n",
    "tbl.head(3)"
   ]
  },
  {
   "cell_type": "code",
   "execution_count": null,
   "id": "6809ec7f",
   "metadata": {},
   "outputs": [],
   "source": [
    "session.close()"
   ]
  }
 ],
 "metadata": {
  "kernelspec": {
   "display_name": ".venv",
   "language": "python",
   "name": "python3"
  },
  "language_info": {
   "codemirror_mode": {
    "name": "ipython",
    "version": 3
   },
   "file_extension": ".py",
   "mimetype": "text/x-python",
   "name": "python",
   "nbconvert_exporter": "python",
   "pygments_lexer": "ipython3",
   "version": "3.12.3"
  }
 },
 "nbformat": 4,
 "nbformat_minor": 5
}
